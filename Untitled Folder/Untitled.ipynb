{
 "cells": [
  {
   "cell_type": "code",
   "execution_count": 37,
   "id": "9066095f",
   "metadata": {
    "scrolled": false
   },
   "outputs": [
    {
     "data": {
      "text/plain": [
       "<a class=\"item item--category\" data-view-content='{\"click_data\":{\"trace_id\":\"uosFXIaJ4lSHbLhS\"}}' data-view-id=\"search_filter_item\" data-view-index=\"0\" href=\"/do-choi-me-be/c2549\" style=\"padding-left:0\">Tã, Bỉm</a>"
      ]
     },
     "execution_count": 37,
     "metadata": {},
     "output_type": "execute_result"
    }
   ],
   "source": [
    "import urllib3\n",
    "from bs4 import BeautifulSoup\n",
    "\n",
    "URL = 'https://tiki.vn/do-choi-me-be/c2549/'\n",
    "http = urllib3.PoolManager()\n",
    "res = http.request('GET', URL)\n",
    "context = BeautifulSoup(res.data, 'html.parser')\n",
    "\n",
    "child = context.find_all('a', class_='item--category')\n",
    "child[0]"
   ]
  },
  {
   "cell_type": "code",
   "execution_count": 45,
   "id": "84638b0d",
   "metadata": {},
   "outputs": [
    {
     "data": {
      "text/plain": [
       "[<a class=\"item item--category\" data-view-content='{\"click_data\":{\"trace_id\":\"0PHlmbnf2rZQ5AzH\"}}' data-view-id=\"search_filter_item\" data-view-index=\"0\" href=\"/ta-bim-cho-be/c2551\" style=\"padding-left: 0px;\">Tã, Bỉm</a>,\n",
       " <a class=\"item item--category\" data-view-content='{\"click_data\":{\"trace_id\":\"0PHlmbnf2rZQ5AzH\"}}' data-view-id=\"search_filter_item\" data-view-index=\"1\" href=\"/dinh-duong-cho-be/c8339\" style=\"padding-left: 0px;\">Dinh dưỡng cho bé</a>,\n",
       " <a class=\"item item--category\" data-view-content='{\"click_data\":{\"trace_id\":\"0PHlmbnf2rZQ5AzH\"}}' data-view-id=\"search_filter_item\" data-view-index=\"2\" href=\"/thuc-pham-an-dam/c6568\" style=\"padding-left: 0px;\">Thực phẩm ăn dặm</a>,\n",
       " <a class=\"item item--category\" data-view-content='{\"click_data\":{\"trace_id\":\"0PHlmbnf2rZQ5AzH\"}}' data-view-id=\"search_filter_item\" data-view-index=\"3\" href=\"/dinh-duong-cho-me/c10416\" style=\"padding-left: 0px;\">Dinh dưỡng cho mẹ</a>,\n",
       " <a class=\"item item--category\" data-view-content='{\"click_data\":{\"trace_id\":\"0PHlmbnf2rZQ5AzH\"}}' data-view-id=\"search_filter_item\" data-view-index=\"4\" href=\"/dinh-duong-cho-nguoi-lon/c10418\" style=\"padding-left: 0px;\">Dinh dưỡng cho người lớn</a>,\n",
       " <a class=\"item item--category\" data-view-content='{\"click_data\":{\"trace_id\":\"0PHlmbnf2rZQ5AzH\"}}' data-view-id=\"search_filter_item\" data-view-index=\"5\" href=\"/do-dung-cho-be/c11601\" style=\"padding-left: 0px;\">Đồ dùng cho bé</a>,\n",
       " <a class=\"item item--category\" data-view-content='{\"click_data\":{\"trace_id\":\"0PHlmbnf2rZQ5AzH\"}}' data-view-id=\"search_filter_item\" data-view-index=\"6\" href=\"/do-choi/c5250\" style=\"padding-left: 0px;\">Đồ chơi</a>,\n",
       " <a class=\"item item--category\" data-view-content='{\"click_data\":{\"trace_id\":\"0PHlmbnf2rZQ5AzH\"}}' data-view-id=\"search_filter_item\" data-view-index=\"7\" href=\"/cham-soc-me-mang-thai-sau-sinh/c2640\" style=\"padding-left: 0px;\">Chăm sóc mẹ mang thai, sau sinh</a>,\n",
       " <a class=\"item item--category\" data-view-content='{\"click_data\":{\"trace_id\":\"0PHlmbnf2rZQ5AzH\"}}' data-view-id=\"search_filter_item\" data-view-index=\"8\" href=\"/chuan-bi-mang-thai/c10570\" style=\"padding-left: 0px;\">Chuẩn bị mang thai</a>,\n",
       " <a class=\"item item--category\" data-view-content='{\"click_data\":{\"trace_id\":\"0PHlmbnf2rZQ5AzH\"}}' data-view-id=\"search_filter_item\" data-view-index=\"9\" href=\"/cham-soc-nha-cua/c15078\" style=\"padding-left: 0px;\">Chăm sóc nhà cửa</a>,\n",
       " <a class=\"item item--category\" data-view-content='{\"click_data\":{\"trace_id\":\"0PHlmbnf2rZQ5AzH\"}}' data-view-id=\"search_filter_item\" data-view-index=\"10\" href=\"/thoi-trang-cho-me-va-be/c11603\" style=\"padding-left: 0px;\">Thời Trang Cho Mẹ Và Bé</a>]"
      ]
     },
     "execution_count": 45,
     "metadata": {},
     "output_type": "execute_result"
    }
   ],
   "source": [
    "from bs4 import BeautifulSoup\n",
    "from selenium import webdriver\n",
    "import os\n",
    "os.environ['MOZ_HEADLESS'] = '1'\n",
    "\n",
    "browser = webdriver.Firefox()\n",
    "browser.get(URL)\n",
    "html = browser.page_source\n",
    "soup = BeautifulSoup(html, 'lxml')\n",
    "child = soup.find_all('a', class_='item--category')\n",
    "child"
   ]
  },
  {
   "cell_type": "code",
   "execution_count": 44,
   "id": "42660641",
   "metadata": {},
   "outputs": [
    {
     "ename": "ModuleNotFoundError",
     "evalue": "No module named 'COMMON'",
     "output_type": "error",
     "traceback": [
      "\u001b[0;31m---------------------------------------------------------------------------\u001b[0m",
      "\u001b[0;31mModuleNotFoundError\u001b[0m                       Traceback (most recent call last)",
      "Cell \u001b[0;32mIn[44], line 9\u001b[0m\n\u001b[1;32m      6\u001b[0m \u001b[38;5;28;01mimport\u001b[39;00m \u001b[38;5;21;01mpandas\u001b[39;00m \u001b[38;5;28;01mas\u001b[39;00m \u001b[38;5;21;01mpd\u001b[39;00m\n\u001b[1;32m      7\u001b[0m \u001b[38;5;28;01mfrom\u001b[39;00m \u001b[38;5;21;01mbs4\u001b[39;00m \u001b[38;5;28;01mimport\u001b[39;00m BeautifulSoup\n\u001b[0;32m----> 9\u001b[0m \u001b[38;5;28;01mimport\u001b[39;00m \u001b[38;5;21;01mCOMMON\u001b[39;00m\n\u001b[1;32m     10\u001b[0m \u001b[38;5;28;01mfrom\u001b[39;00m \u001b[38;5;21;01mMODELS\u001b[39;00m\u001b[38;5;21;01m.\u001b[39;00m\u001b[38;5;21;01mCATEGORY\u001b[39;00m \u001b[38;5;28;01mimport\u001b[39;00m CATEGORY\n\u001b[1;32m     12\u001b[0m \u001b[38;5;28;01mif\u001b[39;00m \u001b[38;5;18m__name__\u001b[39m \u001b[38;5;241m==\u001b[39m \u001b[38;5;124m'\u001b[39m\u001b[38;5;124m__main__\u001b[39m\u001b[38;5;124m'\u001b[39m:\n",
      "\u001b[0;31mModuleNotFoundError\u001b[0m: No module named 'COMMON'"
     ]
    }
   ],
   "source": [
    "import datetime\n",
    "import os\n",
    "\n",
    "import urllib3\n",
    "from selenium import webdriver\n",
    "import pandas as pd\n",
    "from bs4 import BeautifulSoup\n",
    "\n",
    "import COMMON\n",
    "from MODELS.CATEGORY import CATEGORY\n",
    "\n",
    "if __name__ == '__main__':\n",
    "\n",
    "    os.environ['MOZ_HEADLESS'] = '1'\n",
    "\n",
    "    START_TIME = datetime.datetime.now()\n",
    "    ROOT_URL = 'https://tiki.vn/'\n",
    "    categories = []\n",
    "\n",
    "    browser = webdriver.Firefox()\n",
    "    browser.get(ROOT_URL)\n",
    "    root_page_context = BeautifulSoup(browser.page_source, 'lxml')\n",
    "    highlight_div = root_page_context.find_all('div', class_=['styles__StyledListItem-sc-w7gnxl-0'])[1]\n",
    "    root_categories = highlight_div.find_all('a', class_=['styles__StyledItem-sc-oho8ay-0 bzmzGe'])\n",
    "\n",
    "    for cat in root_categories:\n",
    "        cat_url = cat.attrs['href']\n",
    "        cat_name = cat.attrs['title']\n",
    "        _id = cat_url.split(\"/\")[-1]\n",
    "\n",
    "        if _id == 'c44792':\n",
    "            category = CATEGORY(_id, 'NGON', 1, cat_url, None)\n",
    "            categories.append(category)\n",
    "            continue\n",
    "\n",
    "        category = CATEGORY(_id, cat_name.strip(), 1, cat_url, None)\n",
    "        categories.append(category)\n",
    "\n",
    "    print(categories)\n",
    "    COMMON.print_execution_time(START_TIME)\n"
   ]
  },
  {
   "cell_type": "code",
   "execution_count": null,
   "id": "9181cb50",
   "metadata": {},
   "outputs": [],
   "source": []
  }
 ],
 "metadata": {
  "kernelspec": {
   "display_name": "Python 3 (ipykernel)",
   "language": "python",
   "name": "python3"
  },
  "language_info": {
   "codemirror_mode": {
    "name": "ipython",
    "version": 3
   },
   "file_extension": ".py",
   "mimetype": "text/x-python",
   "name": "python",
   "nbconvert_exporter": "python",
   "pygments_lexer": "ipython3",
   "version": "3.9.16"
  }
 },
 "nbformat": 4,
 "nbformat_minor": 5
}
