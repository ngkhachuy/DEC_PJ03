{
 "cells": [
  {
   "cell_type": "code",
   "execution_count": 26,
   "id": "9066095f",
   "metadata": {
    "scrolled": false
   },
   "outputs": [
    {
     "data": {
      "text/plain": [
       "[<meta content=\"https://tiki.vn/xe-dap-mini-tre-em-vicky-xg22-hang-chinh-hang-p194805130.html\" property=\"og:url\"/>]"
      ]
     },
     "execution_count": 26,
     "metadata": {},
     "output_type": "execute_result"
    }
   ],
   "source": [
    "import urllib3\n",
    "from bs4 import BeautifulSoup\n",
    "\n",
    "URL = '//tka.tiki.vn/pixel/pixel?data=a6_y05i4YjaM66nNP_9CmE37_L5jtZIlg7APyuqOYMVGMO5c0qhbLQcboQ2c18i5uryXCVoSTfC3BZ3wnjY_LYUmzrqmw5dwHNqoLUo9oQr2Kqi0lZzG5HGdCJG9YKo2YAEsAWmKejxHTQB9U036JcmkawN9dQQDNOk8He8UrJwhcaJirMssUgio59cL3bg0rde0aTVNstY_8A5dkfRh8IKYCWaBQOG5zyLH9s2YhF-U-vblhnfJwzgZ-x_cIHmceqzj4VetlIPXyXvtZyjZLUii7ddlfJBSHfGU4FMJG0GLlHoLEF8qu4ldAbC7iRdRTgidGhR1ek4Zp7wD-cgNrBNFRPl1aFWXYRSQGSuyABWm82iMfCeBn8noZ9RsDcJznz5MCw955IBFaTkm8_MvK0sG-_Csp2uVIykzD3m77z0EIfJp37QEMrIXgBfV3aDxSis9sdPTUijy4ZCu90WK0GNVz5TtGSFAe6myUrax_KIsXiE3U_WETJVfDbezMgT0LJEVrw_WwLkviOfdWJypAKZqLuT4vRPl8-hRifC4NogtsZDF_ZeyGkTWUrU__fEQGlmcLRU1Hegu0-X8a2rJmCfJtgz0de1_MVGKB8mFYIxBrGvwtVim9zLjWCtZpU_IQhSlVoh6G-373RBJKN5TknopCLKDBXEo5FHxV6aA0KSe5oLU9TUFhzwCz4eRKMrSDFs1tan95U63SGG1YO-D2oNDN2ZpSM6365aEGKMRE_iT3YYwv6Qz_JLG16eDD4_PI_EaLrysNmTtzPA-i7jyCLmNmgiAWJz4Yr6p_i2HiZr5LPiniu295FzoS9qyopB4yos5iheCwwsb32GR1Og3mDUHoTj5l6prMZODmQ3otqokitvFqc21gn024M3TJrlh96zbds42SEt7-_6E6h2LfiB--sYT7T5Qzs30-wKwJZZS-bJFE0Lv5KilW2IYHIgKZg2VBJtmW42P88BEaW-4ztXDIPvZe_2zXn0QAb-gxEgrlQcy3tigRG5nnCrIpWbsMVM25kOkS3UbvFDlba4oi057WtI0sYVjrOhi1CiJ2X0K9gOKy5h-6Vsi5HXVT8ktZjRsNIISXbsM-eWLTOdccRMSqOgpUd5onu-yPGZO-_QEq7MamsteAg5RHh8V4pagSXp1GAlHh8SgqyaLjis4RdAUH_ldOjNTHLJteM9r0tC8LTCQadftb5q-Xi_e7_9FmJfSTkcF4ph7DLppT5cbPE075drdwt_-KVQO0vHzrTBodEGMguLauO9VKEqBcFNaBE182TAWTVWvpQ8WJLBXFIWIz5vCLJ9awFJyOAaGrdwQZ0o4Q5FtYssm_oiEt2aUGwEDPwSXH1D8ArYCUunIACFocVgR78tSkdYsPx6FZUUfJyaQkEajEQraeP28gMpEbBwPtvdpK9FM9NtQzcHXFnG2nb-6GE8s2xEhr_zm3Otq9jlsHsp96Kq9oXTSKfEEE-izxg_zJsoiNHsl8wH8GvvfdtVC7ijzGjEdkGqyQq2prPe1NJ105MkkurJuNX2EP6FKR_XXkQyKHOAGS7k2lBI58nsAIIJf02Z0qMIhzSD7uvISa9w5VVMfMP_iRn4rd9cZJmZNFQqOwsWqYhSCR6EXGz2ZRUFRb7DeIeKkx5wU-QSRs851aiDPJX7HauiP8p-f0ptdzaUm4Cd1wfuuJfnaqIfbTOsVJhxBXNLrRuOlWy01CTd9x0VOiRL-UnUuCJ_x8JCSg3H8zjkR-uZkpLnr02_AnhUo9FEWhp85KdeVQtxRRZco0bcARUUQCCXOGD53PVMVAOI81bNVdh0TXwPuaMwxruYyuzY6DrE3jRB0pSRU6-iY_RUxOOYD86nLIyo4ZVNlzRU2hgV_XalZKFOhx0Swm3LXzbyRRrM7nQYBOjqv5H1sXEVnY-ZNZW_l2CcNj3qJo6o34bvYccTZr0cejQ4OiH3VlCUxw74rTOtO4JTwAw8-CpxQ9Jmgu1pGl92nEPtty-IURQ&pos=1&reqid=mFOVtUMh39gARFkk&type=CLICK'\n",
    "http = urllib3.PoolManager()\n",
    "res = http.request('GET', URL)\n",
    "context = BeautifulSoup(res.data, 'html.parser')\n",
    "\n",
    "child = context.find_all('a', class_='breadcrumb-item')\n",
    "\n",
    "\n",
    "context.find_all('meta', property='og:url')\n",
    "\n",
    "\n",
    "\n"
   ]
  },
  {
   "cell_type": "code",
   "execution_count": 45,
   "id": "84638b0d",
   "metadata": {
    "collapsed": true
   },
   "outputs": [
    {
     "data": {
      "text/plain": [
       "[<a class=\"item item--category\" data-view-content='{\"click_data\":{\"trace_id\":\"0PHlmbnf2rZQ5AzH\"}}' data-view-id=\"search_filter_item\" data-view-index=\"0\" href=\"/ta-bim-cho-be/c2551\" style=\"padding-left: 0px;\">Tã, Bỉm</a>,\n",
       " <a class=\"item item--category\" data-view-content='{\"click_data\":{\"trace_id\":\"0PHlmbnf2rZQ5AzH\"}}' data-view-id=\"search_filter_item\" data-view-index=\"1\" href=\"/dinh-duong-cho-be/c8339\" style=\"padding-left: 0px;\">Dinh dưỡng cho bé</a>,\n",
       " <a class=\"item item--category\" data-view-content='{\"click_data\":{\"trace_id\":\"0PHlmbnf2rZQ5AzH\"}}' data-view-id=\"search_filter_item\" data-view-index=\"2\" href=\"/thuc-pham-an-dam/c6568\" style=\"padding-left: 0px;\">Thực phẩm ăn dặm</a>,\n",
       " <a class=\"item item--category\" data-view-content='{\"click_data\":{\"trace_id\":\"0PHlmbnf2rZQ5AzH\"}}' data-view-id=\"search_filter_item\" data-view-index=\"3\" href=\"/dinh-duong-cho-me/c10416\" style=\"padding-left: 0px;\">Dinh dưỡng cho mẹ</a>,\n",
       " <a class=\"item item--category\" data-view-content='{\"click_data\":{\"trace_id\":\"0PHlmbnf2rZQ5AzH\"}}' data-view-id=\"search_filter_item\" data-view-index=\"4\" href=\"/dinh-duong-cho-nguoi-lon/c10418\" style=\"padding-left: 0px;\">Dinh dưỡng cho người lớn</a>,\n",
       " <a class=\"item item--category\" data-view-content='{\"click_data\":{\"trace_id\":\"0PHlmbnf2rZQ5AzH\"}}' data-view-id=\"search_filter_item\" data-view-index=\"5\" href=\"/do-dung-cho-be/c11601\" style=\"padding-left: 0px;\">Đồ dùng cho bé</a>,\n",
       " <a class=\"item item--category\" data-view-content='{\"click_data\":{\"trace_id\":\"0PHlmbnf2rZQ5AzH\"}}' data-view-id=\"search_filter_item\" data-view-index=\"6\" href=\"/do-choi/c5250\" style=\"padding-left: 0px;\">Đồ chơi</a>,\n",
       " <a class=\"item item--category\" data-view-content='{\"click_data\":{\"trace_id\":\"0PHlmbnf2rZQ5AzH\"}}' data-view-id=\"search_filter_item\" data-view-index=\"7\" href=\"/cham-soc-me-mang-thai-sau-sinh/c2640\" style=\"padding-left: 0px;\">Chăm sóc mẹ mang thai, sau sinh</a>,\n",
       " <a class=\"item item--category\" data-view-content='{\"click_data\":{\"trace_id\":\"0PHlmbnf2rZQ5AzH\"}}' data-view-id=\"search_filter_item\" data-view-index=\"8\" href=\"/chuan-bi-mang-thai/c10570\" style=\"padding-left: 0px;\">Chuẩn bị mang thai</a>,\n",
       " <a class=\"item item--category\" data-view-content='{\"click_data\":{\"trace_id\":\"0PHlmbnf2rZQ5AzH\"}}' data-view-id=\"search_filter_item\" data-view-index=\"9\" href=\"/cham-soc-nha-cua/c15078\" style=\"padding-left: 0px;\">Chăm sóc nhà cửa</a>,\n",
       " <a class=\"item item--category\" data-view-content='{\"click_data\":{\"trace_id\":\"0PHlmbnf2rZQ5AzH\"}}' data-view-id=\"search_filter_item\" data-view-index=\"10\" href=\"/thoi-trang-cho-me-va-be/c11603\" style=\"padding-left: 0px;\">Thời Trang Cho Mẹ Và Bé</a>]"
      ]
     },
     "execution_count": 45,
     "metadata": {},
     "output_type": "execute_result"
    }
   ],
   "source": [
    "from bs4 import BeautifulSoup\n",
    "from selenium import webdriver\n",
    "import os\n",
    "os.environ['MOZ_HEADLESS'] = '1'\n",
    "\n",
    "browser = webdriver.Firefox()\n",
    "browser.get(URL)\n",
    "html = browser.page_source\n",
    "soup = BeautifulSoup(html, 'lxml')\n",
    "child = soup.find_all('a', class_=['item item--category'])\n",
    "child"
   ]
  },
  {
   "cell_type": "code",
   "execution_count": 44,
   "id": "42660641",
   "metadata": {},
   "outputs": [
    {
     "ename": "ModuleNotFoundError",
     "evalue": "No module named 'COMMON'",
     "output_type": "error",
     "traceback": [
      "\u001b[0;31m---------------------------------------------------------------------------\u001b[0m",
      "\u001b[0;31mModuleNotFoundError\u001b[0m                       Traceback (most recent call last)",
      "Cell \u001b[0;32mIn[44], line 9\u001b[0m\n\u001b[1;32m      6\u001b[0m \u001b[38;5;28;01mimport\u001b[39;00m \u001b[38;5;21;01mpandas\u001b[39;00m \u001b[38;5;28;01mas\u001b[39;00m \u001b[38;5;21;01mpd\u001b[39;00m\n\u001b[1;32m      7\u001b[0m \u001b[38;5;28;01mfrom\u001b[39;00m \u001b[38;5;21;01mbs4\u001b[39;00m \u001b[38;5;28;01mimport\u001b[39;00m BeautifulSoup\n\u001b[0;32m----> 9\u001b[0m \u001b[38;5;28;01mimport\u001b[39;00m \u001b[38;5;21;01mCOMMON\u001b[39;00m\n\u001b[1;32m     10\u001b[0m \u001b[38;5;28;01mfrom\u001b[39;00m \u001b[38;5;21;01mMODELS\u001b[39;00m\u001b[38;5;21;01m.\u001b[39;00m\u001b[38;5;21;01mCATEGORY\u001b[39;00m \u001b[38;5;28;01mimport\u001b[39;00m CATEGORY\n\u001b[1;32m     12\u001b[0m \u001b[38;5;28;01mif\u001b[39;00m \u001b[38;5;18m__name__\u001b[39m \u001b[38;5;241m==\u001b[39m \u001b[38;5;124m'\u001b[39m\u001b[38;5;124m__main__\u001b[39m\u001b[38;5;124m'\u001b[39m:\n",
      "\u001b[0;31mModuleNotFoundError\u001b[0m: No module named 'COMMON'"
     ]
    }
   ],
   "source": [
    "import datetime\n",
    "import os\n",
    "\n",
    "import urllib3\n",
    "from selenium import webdriver\n",
    "import pandas as pd\n",
    "from bs4 import BeautifulSoup\n",
    "\n",
    "import COMMON\n",
    "from MODELS.CATEGORY import CATEGORY\n",
    "\n",
    "if __name__ == '__main__':\n",
    "\n",
    "    os.environ['MOZ_HEADLESS'] = '1'\n",
    "\n",
    "    START_TIME = datetime.datetime.now()\n",
    "    ROOT_URL = 'https://tiki.vn/'\n",
    "    categories = []\n",
    "\n",
    "    browser = webdriver.Firefox()\n",
    "    browser.get(ROOT_URL)\n",
    "    root_page_context = BeautifulSoup(browser.page_source, 'lxml')\n",
    "    highlight_div = root_page_context.find_all('div', class_=['styles__StyledListItem-sc-w7gnxl-0'])[1]\n",
    "    root_categories = highlight_div.find_all('a', class_=['styles__StyledItem-sc-oho8ay-0 bzmzGe'])\n",
    "\n",
    "    for cat in root_categories:\n",
    "        cat_url = cat.attrs['href']\n",
    "        cat_name = cat.attrs['title']\n",
    "        _id = cat_url.split(\"/\")[-1]\n",
    "\n",
    "        if _id == 'c44792':\n",
    "            category = CATEGORY(_id, 'NGON', 1, cat_url, None)\n",
    "            categories.append(category)\n",
    "            continue\n",
    "\n",
    "        category = CATEGORY(_id, cat_name.strip(), 1, cat_url, None)\n",
    "        categories.append(category)\n",
    "\n",
    "    print(categories)\n",
    "    COMMON.print_execution_time(START_TIME)\n"
   ]
  },
  {
   "cell_type": "code",
   "execution_count": 15,
   "id": "9181cb50",
   "metadata": {
    "scrolled": true
   },
   "outputs": [
    {
     "data": {
      "text/plain": [
       "[]"
      ]
     },
     "execution_count": 15,
     "metadata": {},
     "output_type": "execute_result"
    }
   ],
   "source": [
    "# ------------------------------ Send request to http://tiki.vn, get root categories\n",
    "browser = webdriver.Firefox()\n",
    "browser.get('https://tiki.vn/')\n",
    "root_page_context = BeautifulSoup(browser.page_source, 'lxml')\n",
    "highlight_div = root_page_context.find_all('div', class_=['styles__StyledListItem-sc-w7gnxl-0'])[1]\n",
    "root_categories = highlight_div.find_all('a', class_=['styles__StyledItem-sc-oho8ay-0 bzmzGe'])\n",
    "\n",
    "# ------------------------------ Loop Root categories\n",
    "for cat in root_categories:\n",
    "\n",
    "    # ------------------------------ Get information of  root categories\n",
    "    cat_url = cat.attrs['href']\n",
    "    cat_name = cat.attrs['title']\n",
    "    _id = cat_url.split(\"/\")[-1]\n",
    "\n",
    "    # ------------------------------ Get sub-categories Lv2\n",
    "    browser = webdriver.Firefox()\n",
    "    browser.get(cat_url)\n",
    "    category_page_context = BeautifulSoup(browser.page_source, 'lxml')\n",
    "    second_categories = category_page_context.find_all('a', class_=['item--category'])\n",
    "    break\n",
    "second_categories"
   ]
  },
  {
   "cell_type": "code",
   "execution_count": null,
   "id": "88d308bb",
   "metadata": {},
   "outputs": [],
   "source": []
  }
 ],
 "metadata": {
  "kernelspec": {
   "display_name": "Python 3 (ipykernel)",
   "language": "python",
   "name": "python3"
  },
  "language_info": {
   "codemirror_mode": {
    "name": "ipython",
    "version": 3
   },
   "file_extension": ".py",
   "mimetype": "text/x-python",
   "name": "python",
   "nbconvert_exporter": "python",
   "pygments_lexer": "ipython3",
   "version": "3.9.16"
  }
 },
 "nbformat": 4,
 "nbformat_minor": 5
}
