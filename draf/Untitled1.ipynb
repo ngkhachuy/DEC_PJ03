{
 "cells": [
  {
   "cell_type": "code",
   "execution_count": 22,
   "id": "01f36195",
   "metadata": {},
   "outputs": [
    {
     "data": {
      "text/plain": [
       "'{\"_id\": \"111\", \"name\": \"Điện thoại - Máy tính bảng\", \"lvl\": 1, \"url\": \"ssssss\", \"child\": null}'"
      ]
     },
     "execution_count": 22,
     "metadata": {},
     "output_type": "execute_result"
    }
   ],
   "source": [
    "import json\n",
    "\n",
    "class CATEGORY:\n",
    "\n",
    "    def __init__(self, _id, name, lvl, url, child):\n",
    "        self._id = _id\n",
    "        self.name = name\n",
    "        self.lvl = lvl\n",
    "        self.url = url\n",
    "        self.child = child\n",
    "        \n",
    "    def to_json(self):\n",
    "        return json.dumps(self.__dict__, ensure_ascii=False).encode('utf8').decode()\n",
    "\n",
    "cat = CATEGORY('111', 'Điện thoại - Máy tính bảng', 1, 'ssssss', None)\n",
    "cat.to_json()"
   ]
  },
  {
   "cell_type": "code",
   "execution_count": null,
   "id": "dde451ec",
   "metadata": {},
   "outputs": [],
   "source": []
  }
 ],
 "metadata": {
  "kernelspec": {
   "display_name": "Python 3 (ipykernel)",
   "language": "python",
   "name": "python3"
  },
  "language_info": {
   "codemirror_mode": {
    "name": "ipython",
    "version": 3
   },
   "file_extension": ".py",
   "mimetype": "text/x-python",
   "name": "python",
   "nbconvert_exporter": "python",
   "pygments_lexer": "ipython3",
   "version": "3.9.16"
  }
 },
 "nbformat": 4,
 "nbformat_minor": 5
}
