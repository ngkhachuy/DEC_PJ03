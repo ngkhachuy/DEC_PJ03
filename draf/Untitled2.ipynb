{
 "cells": [
  {
   "cell_type": "code",
   "execution_count": 1,
   "id": "febbb360",
   "metadata": {},
   "outputs": [
    {
     "data": {
      "text/html": [
       "<div>\n",
       "<style scoped>\n",
       "    .dataframe tbody tr th:only-of-type {\n",
       "        vertical-align: middle;\n",
       "    }\n",
       "\n",
       "    .dataframe tbody tr th {\n",
       "        vertical-align: top;\n",
       "    }\n",
       "\n",
       "    .dataframe thead th {\n",
       "        text-align: right;\n",
       "    }\n",
       "</style>\n",
       "<table border=\"1\" class=\"dataframe\">\n",
       "  <thead>\n",
       "    <tr style=\"text-align: right;\">\n",
       "      <th></th>\n",
       "      <th>CAT_ID</th>\n",
       "      <th>PARENT_ID</th>\n",
       "      <th>CAT_NAME</th>\n",
       "      <th>LVL</th>\n",
       "      <th>URL</th>\n",
       "    </tr>\n",
       "  </thead>\n",
       "  <tbody>\n",
       "    <tr>\n",
       "      <th>0</th>\n",
       "      <td>c2552</td>\n",
       "      <td>c2551</td>\n",
       "      <td>Tã dán</td>\n",
       "      <td>3</td>\n",
       "      <td>https://tiki.vn/ta-dan/c2552</td>\n",
       "    </tr>\n",
       "    <tr>\n",
       "      <th>1</th>\n",
       "      <td>c10414</td>\n",
       "      <td>c2551</td>\n",
       "      <td>Miếng lót sơ sinh</td>\n",
       "      <td>3</td>\n",
       "      <td>https://tiki.vn/mieng-lot-so-sinh/c10414</td>\n",
       "    </tr>\n",
       "    <tr>\n",
       "      <th>2</th>\n",
       "      <td>c2553</td>\n",
       "      <td>c2551</td>\n",
       "      <td>Tã quần</td>\n",
       "      <td>3</td>\n",
       "      <td>https://tiki.vn/ta-quan/c2553</td>\n",
       "    </tr>\n",
       "    <tr>\n",
       "      <th>3</th>\n",
       "      <td>c10415</td>\n",
       "      <td>c2551</td>\n",
       "      <td>Tã giấy</td>\n",
       "      <td>3</td>\n",
       "      <td>https://tiki.vn/ta-giay/c10415</td>\n",
       "    </tr>\n",
       "    <tr>\n",
       "      <th>4</th>\n",
       "      <td>c2554</td>\n",
       "      <td>c2551</td>\n",
       "      <td>Tã vải</td>\n",
       "      <td>3</td>\n",
       "      <td>https://tiki.vn/ta-vai/c2554</td>\n",
       "    </tr>\n",
       "  </tbody>\n",
       "</table>\n",
       "</div>"
      ],
      "text/plain": [
       "   CAT_ID PARENT_ID           CAT_NAME  LVL  \\\n",
       "0   c2552     c2551             Tã dán    3   \n",
       "1  c10414     c2551  Miếng lót sơ sinh    3   \n",
       "2   c2553     c2551            Tã quần    3   \n",
       "3  c10415     c2551            Tã giấy    3   \n",
       "4   c2554     c2551             Tã vải    3   \n",
       "\n",
       "                                        URL  \n",
       "0              https://tiki.vn/ta-dan/c2552  \n",
       "1  https://tiki.vn/mieng-lot-so-sinh/c10414  \n",
       "2             https://tiki.vn/ta-quan/c2553  \n",
       "3            https://tiki.vn/ta-giay/c10415  \n",
       "4              https://tiki.vn/ta-vai/c2554  "
      ]
     },
     "execution_count": 1,
     "metadata": {},
     "output_type": "execute_result"
    }
   ],
   "source": [
    "import pandas as pd\n",
    "\n",
    "data = pd.read_csv('../data/categories_20230510_132551.csv')   \n",
    "df = pd.DataFrame(data)\n",
    "df.head()"
   ]
  },
  {
   "cell_type": "code",
   "execution_count": null,
   "id": "6296e780",
   "metadata": {},
   "outputs": [],
   "source": []
  }
 ],
 "metadata": {
  "kernelspec": {
   "display_name": "Python 3 (ipykernel)",
   "language": "python",
   "name": "python3"
  },
  "language_info": {
   "codemirror_mode": {
    "name": "ipython",
    "version": 3
   },
   "file_extension": ".py",
   "mimetype": "text/x-python",
   "name": "python",
   "nbconvert_exporter": "python",
   "pygments_lexer": "ipython3",
   "version": "3.9.16"
  }
 },
 "nbformat": 4,
 "nbformat_minor": 5
}
